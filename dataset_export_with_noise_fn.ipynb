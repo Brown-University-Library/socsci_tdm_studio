{
 "cells": [
  {
   "cell_type": "markdown",
   "metadata": {},
   "source": [
    "# Export a text corpus (dataset) as a single .csv using a Full Text noise function\n",
    "\n",
    "This is a modified version of the Python sample script"
   ]
  },
  {
   "cell_type": "markdown",
   "metadata": {},
   "source": [
    "## Import Libraries"
   ]
  },
  {
   "cell_type": "code",
   "execution_count": 17,
   "metadata": {},
   "outputs": [],
   "source": [
    "# Libraries for parsing data\n",
    "import os\n",
    "import pandas as pd\n",
    "from lxml import etree\n",
    "from bs4 import BeautifulSoup\n",
    "import numpy as np"
   ]
  },
  {
   "cell_type": "markdown",
   "metadata": {},
   "source": [
    "## Load and Sample Data\n",
    "\n",
    "Depending on the size and vocabulary of the input dataset, runtime of this script may vary. To process the entire dataset, set `sample_size` to `len(input_files)`. Larger datasets can be run on the multiprocessing version of this script."
   ]
  },
  {
   "cell_type": "code",
   "execution_count": 3,
   "metadata": {},
   "outputs": [],
   "source": [
    "# Set corpus to the folder of files you want to use\n",
    "# ACTION: modify corpus name to match dataset created in TDM Studio\n",
    "corpus = '/home/ec2-user/SageMaker/data/aspartame/'\n",
    "\n",
    "# Read in files\n",
    "input_files = os.listdir(corpus)"
   ]
  },
  {
   "cell_type": "code",
   "execution_count": 6,
   "metadata": {},
   "outputs": [
    {
     "name": "stdout",
     "output_type": "stream",
     "text": [
      "Currently sampling 100 documents.\n"
     ]
    }
   ],
   "source": [
    "# Select the number of articles to sample\n",
    "# ACTION: modify with len(input_files) to include entire corpus\n",
    "# sample_size = 100\n",
    "sample_size = len(input_files)\n",
    "\n",
    "# Create a sample of input filenames (or entire corpus)\n",
    "try:\n",
    "    sample_input_files = input_files[0:sample_size]\n",
    "\n",
    "except ValueError:\n",
    "    sample_input_files = input_files\n",
    "    \n",
    "print(\"Currently sampling\", len(sample_input_files), \"documents.\")"
   ]
  },
  {
   "cell_type": "markdown",
   "metadata": {},
   "source": [
    "## Specify Output Filename\n",
    "\n",
    "Define the `output_file` variable to the desired save location and file name. This variable will be used at the end of the script to save the processed data."
   ]
  },
  {
   "cell_type": "code",
   "execution_count": null,
   "metadata": {},
   "outputs": [],
   "source": [
    "# Modify output_file to desired save name\n",
    "output_file = 'test_python_output.csv'"
   ]
  },
  {
   "cell_type": "markdown",
   "metadata": {},
   "source": [
    "## Gather Metadata Fields\n",
    "\n",
    "This section will gather text fields from the articles and add them to lists that will be used to make a dataframe. By default, this script will collect article ID, title, and the publishing date of the articles.\n",
    "\n",
    "NOTE: This version includes additional metadata including FullText"
   ]
  },
  {
   "cell_type": "code",
   "execution_count": 8,
   "metadata": {},
   "outputs": [],
   "source": [
    "# Function to strip html tags from text portion\n",
    "def strip_html_tags(text):\n",
    "    stripped = BeautifulSoup(text).get_text().replace('\\n', ' ').replace('\\\\', '').strip()\n",
    "    return stripped"
   ]
  },
  {
   "cell_type": "code",
   "execution_count": 32,
   "metadata": {},
   "outputs": [],
   "source": [
    "# Retrieve metadata from XML document\n",
    "# ACTION: add logic to look for pubtitle, AND add as a returned value below\n",
    "def getxmlcontent(corpus, file, strip_html=True):\n",
    "    try:\n",
    "        tree = etree.parse(corpus + file)\n",
    "        root = tree.getroot()\n",
    "\n",
    "        if root.find('.//GOID') is not None:\n",
    "            goid = root.find('.//GOID').text\n",
    "        else:\n",
    "            goid = None\n",
    "\n",
    "        if root.find('.//Title') is not None:\n",
    "            title = root.find('.//Title').text\n",
    "        else:\n",
    "            title = None\n",
    "\n",
    "        if root.find('.//NumericDate') is not None:\n",
    "            date = root.find('.//NumericDate').text\n",
    "        else:\n",
    "            date = None\n",
    "            \n",
    "        if root.find('.//PublisherName') is not None:\n",
    "            publisher = root.find('.//PublisherName').text\n",
    "        else:\n",
    "            publisher = None\n",
    "            \n",
    "        if root.find('.//DFS/PubFrosting/Title') is not None:\n",
    "            pubtitle = root.find('.//DFS/PubFrosting/Title').text\n",
    "        else:\n",
    "            pubtitle = None \n",
    "\n",
    "        if root.find('.//FullText') is not None:\n",
    "            text = root.find('.//FullText').text\n",
    "\n",
    "        elif root.find('.//HiddenText') is not None:\n",
    "            text = root.find('.//HiddenText').text\n",
    "\n",
    "        elif root.find('.//Text') is not None:\n",
    "            text = root.find('.//Text').text\n",
    "\n",
    "        else:\n",
    "            text = None\n",
    "\n",
    "        # Strip html from text portion\n",
    "        if text is not None and strip_html == True:\n",
    "            text = strip_html_tags(text)\n",
    "    \n",
    "    except Exception as e:\n",
    "        print(f\"Error while parsing file {file}: {e}\")\n",
    "    \n",
    "    return goid, title, date, publisher, text, pubtitle"
   ]
  },
  {
   "cell_type": "code",
   "execution_count": 33,
   "metadata": {},
   "outputs": [],
   "source": [
    "# Create lists to store article IDs, titles, dates,  text, and publisher\n",
    "goid_list = []\n",
    "title_list = []\n",
    "date_list = []\n",
    "text_list = []\n",
    "publisher_list = []\n",
    "pubtitle_list = []\n",
    "year_list = []\n",
    "\n",
    "# Parse files and add data to lists\n",
    "for file in sample_input_files:\n",
    "    \n",
    "    # Retrieve the metadata\n",
    "    goid, title, date, publisher, text, pubtitle = getxmlcontent(corpus, file, strip_html=True)\n",
    "\n",
    "    # Create year var from date for easier filtering later\n",
    "    year = date[0:4]\n",
    "    \n",
    "    # optional step to create a year var (from date_list) and filter b\n",
    "    # list_of_years = [1924, 1934, 1944, 1954, 1964, 1974, 1984, 1994, 2004, 2014, 2024]    \n",
    "    # if year in list_of_years:\n",
    "    if True:\n",
    "        # Store metadata to lists\n",
    "        goid_list.append(goid)\n",
    "        title_list.append(title)\n",
    "        date_list.append(date)\n",
    "        text_list.append(text)\n",
    "        publisher_list.append(publisher)\n",
    "        pubtitle_list.append(pubtitle)\n",
    "        year_list.append(year)\n",
    "        \n",
    "    #implicitly, there's an empty \"else\" here. if the conditions above aren't met, we do nothing.\n",
    "    "
   ]
  },
  {
   "cell_type": "markdown",
   "metadata": {},
   "source": [
    "## Assemble lists of vars into single dataframe\n",
    "\n",
    "This section uses the collected fields to make a dataframe.\n",
    "\n",
    "NOTE: This is also more extensive than sample notebook"
   ]
  },
  {
   "cell_type": "code",
   "execution_count": 37,
   "metadata": {},
   "outputs": [],
   "source": [
    "# Create a dataframe, setting each of the columns to one of the lists made in the cell above\n",
    "df = pd.DataFrame({'GOID': goid_list,'Title': title_list, 'Date': date_list, 'Publisher' : publisher_list, \"PubTitle\": pubtitle_list, \"Text\": text_list, \"Year\": year_list})"
   ]
  },
  {
   "cell_type": "code",
   "execution_count": 38,
   "metadata": {
    "scrolled": true
   },
   "outputs": [
    {
     "data": {
      "text/html": [
       "<div>\n",
       "<style scoped>\n",
       "    .dataframe tbody tr th:only-of-type {\n",
       "        vertical-align: middle;\n",
       "    }\n",
       "\n",
       "    .dataframe tbody tr th {\n",
       "        vertical-align: top;\n",
       "    }\n",
       "\n",
       "    .dataframe thead th {\n",
       "        text-align: right;\n",
       "    }\n",
       "</style>\n",
       "<table border=\"1\" class=\"dataframe\">\n",
       "  <thead>\n",
       "    <tr style=\"text-align: right;\">\n",
       "      <th></th>\n",
       "      <th>GOID</th>\n",
       "      <th>Title</th>\n",
       "      <th>Date</th>\n",
       "      <th>Publisher</th>\n",
       "      <th>PubTitle</th>\n",
       "      <th>Text</th>\n",
       "      <th>Year</th>\n",
       "    </tr>\n",
       "  </thead>\n",
       "  <tbody>\n",
       "    <tr>\n",
       "      <th>0</th>\n",
       "      <td>307816407</td>\n",
       "      <td>PARENTS MAY MOTIVATE A CHILD'S OVEREATING</td>\n",
       "      <td>1994-11-29</td>\n",
       "      <td>WP Company LLC d/b/a The Washington Post</td>\n",
       "      <td>The Washington Post (pre-1997 Fulltext)</td>\n",
       "      <td>Bribing, threatening or rewarding children   t...</td>\n",
       "      <td>1994</td>\n",
       "    </tr>\n",
       "    <tr>\n",
       "      <th>1</th>\n",
       "      <td>426631736</td>\n",
       "      <td>Proposal for Nutrasweet</td>\n",
       "      <td>1987-10-26</td>\n",
       "      <td>New York Times Company</td>\n",
       "      <td>New York Times</td>\n",
       "      <td>LEAD: The Nutrasweet Company said Friday that ...</td>\n",
       "      <td>1987</td>\n",
       "    </tr>\n",
       "    <tr>\n",
       "      <th>2</th>\n",
       "      <td>428563824</td>\n",
       "      <td>Food Notes</td>\n",
       "      <td>1992-06-10</td>\n",
       "      <td>New York Times Company</td>\n",
       "      <td>New York Times</td>\n",
       "      <td>As One Dad Cooked It  For a Father's Day gift ...</td>\n",
       "      <td>1992</td>\n",
       "    </tr>\n",
       "    <tr>\n",
       "      <th>3</th>\n",
       "      <td>290824130</td>\n",
       "      <td>SACCHARIN'S SWEET LIFE MAY GET 2 MORE YEARS</td>\n",
       "      <td>1985-04-18</td>\n",
       "      <td>Tribune Publishing Company, LLC</td>\n",
       "      <td>Chicago Tribune (pre-1997 Fulltext)</td>\n",
       "      <td>Saccharin, an artificial sweetener whose safet...</td>\n",
       "      <td>1985</td>\n",
       "    </tr>\n",
       "    <tr>\n",
       "      <th>4</th>\n",
       "      <td>397970722</td>\n",
       "      <td>Genex Eliminates 16% Of Total Staff Positions</td>\n",
       "      <td>1984-12-04</td>\n",
       "      <td>Dow Jones &amp; Company Inc.</td>\n",
       "      <td>Wall Street Journal</td>\n",
       "      <td>ROCKVILLE, Md. -- Genex Corp. said it eliminat...</td>\n",
       "      <td>1984</td>\n",
       "    </tr>\n",
       "    <tr>\n",
       "      <th>...</th>\n",
       "      <td>...</td>\n",
       "      <td>...</td>\n",
       "      <td>...</td>\n",
       "      <td>...</td>\n",
       "      <td>...</td>\n",
       "      <td>...</td>\n",
       "      <td>...</td>\n",
       "    </tr>\n",
       "    <tr>\n",
       "      <th>95</th>\n",
       "      <td>1282415746</td>\n",
       "      <td>Coke and the Calorie Wars; We already know the...</td>\n",
       "      <td>2013-01-30</td>\n",
       "      <td>Dow Jones &amp; Company Inc.</td>\n",
       "      <td>Wall Street Journal (Online)</td>\n",
       "      <td>Most of the world has grown fatter since the 1...</td>\n",
       "      <td>2013</td>\n",
       "    </tr>\n",
       "    <tr>\n",
       "      <th>96</th>\n",
       "      <td>1925432336</td>\n",
       "      <td>Ponte a prueba: ¿cuáles de mis bebidas favorit...</td>\n",
       "      <td>2017-08-02</td>\n",
       "      <td>Tribune Publishing Company, LLC</td>\n",
       "      <td>Chicago Tribune (Online)</td>\n",
       "      <td>breakerbreakerbreakerbreakerbreakerbreakerbrea...</td>\n",
       "      <td>2017</td>\n",
       "    </tr>\n",
       "    <tr>\n",
       "      <th>97</th>\n",
       "      <td>2550962880</td>\n",
       "      <td>Coke Zero fans brace themselves as company ann...</td>\n",
       "      <td>2021-07-13</td>\n",
       "      <td>WP Company LLC d/b/a The Washington Post</td>\n",
       "      <td>The Washington Post (Online)</td>\n",
       "      <td>There's another shake-up in the world of fizzy...</td>\n",
       "      <td>2021</td>\n",
       "    </tr>\n",
       "    <tr>\n",
       "      <th>98</th>\n",
       "      <td>292036446</td>\n",
       "      <td>Genteel Pause Cup of Tea: Americans Drink It Up</td>\n",
       "      <td>1985-01-02</td>\n",
       "      <td>Los Angeles Times Communications LLC</td>\n",
       "      <td>Los Angeles Times (pre-1997 Fulltext)</td>\n",
       "      <td>It's 7 a.m. Sharon Fraser, an Encino financial...</td>\n",
       "      <td>1985</td>\n",
       "    </tr>\n",
       "    <tr>\n",
       "      <th>99</th>\n",
       "      <td>1720425037</td>\n",
       "      <td>CMO Today: Twitter Looks to Cash In on Video A...</td>\n",
       "      <td>2015-10-09</td>\n",
       "      <td>Dow Jones &amp; Company Inc.</td>\n",
       "      <td>Wall Street Journal (Online)</td>\n",
       "      <td>TWITTER ADS: Twitter is rolling out a new vide...</td>\n",
       "      <td>2015</td>\n",
       "    </tr>\n",
       "  </tbody>\n",
       "</table>\n",
       "<p>100 rows × 7 columns</p>\n",
       "</div>"
      ],
      "text/plain": [
       "          GOID                                              Title        Date  \\\n",
       "0    307816407          PARENTS MAY MOTIVATE A CHILD'S OVEREATING  1994-11-29   \n",
       "1    426631736                            Proposal for Nutrasweet  1987-10-26   \n",
       "2    428563824                                         Food Notes  1992-06-10   \n",
       "3    290824130        SACCHARIN'S SWEET LIFE MAY GET 2 MORE YEARS  1985-04-18   \n",
       "4    397970722      Genex Eliminates 16% Of Total Staff Positions  1984-12-04   \n",
       "..         ...                                                ...         ...   \n",
       "95  1282415746  Coke and the Calorie Wars; We already know the...  2013-01-30   \n",
       "96  1925432336  Ponte a prueba: ¿cuáles de mis bebidas favorit...  2017-08-02   \n",
       "97  2550962880  Coke Zero fans brace themselves as company ann...  2021-07-13   \n",
       "98   292036446    Genteel Pause Cup of Tea: Americans Drink It Up  1985-01-02   \n",
       "99  1720425037  CMO Today: Twitter Looks to Cash In on Video A...  2015-10-09   \n",
       "\n",
       "                                   Publisher  \\\n",
       "0   WP Company LLC d/b/a The Washington Post   \n",
       "1                     New York Times Company   \n",
       "2                     New York Times Company   \n",
       "3            Tribune Publishing Company, LLC   \n",
       "4                   Dow Jones & Company Inc.   \n",
       "..                                       ...   \n",
       "95                  Dow Jones & Company Inc.   \n",
       "96           Tribune Publishing Company, LLC   \n",
       "97  WP Company LLC d/b/a The Washington Post   \n",
       "98      Los Angeles Times Communications LLC   \n",
       "99                  Dow Jones & Company Inc.   \n",
       "\n",
       "                                   PubTitle  \\\n",
       "0   The Washington Post (pre-1997 Fulltext)   \n",
       "1                            New York Times   \n",
       "2                            New York Times   \n",
       "3       Chicago Tribune (pre-1997 Fulltext)   \n",
       "4                       Wall Street Journal   \n",
       "..                                      ...   \n",
       "95             Wall Street Journal (Online)   \n",
       "96                 Chicago Tribune (Online)   \n",
       "97             The Washington Post (Online)   \n",
       "98    Los Angeles Times (pre-1997 Fulltext)   \n",
       "99             Wall Street Journal (Online)   \n",
       "\n",
       "                                                 Text  Year  \n",
       "0   Bribing, threatening or rewarding children   t...  1994  \n",
       "1   LEAD: The Nutrasweet Company said Friday that ...  1987  \n",
       "2   As One Dad Cooked It  For a Father's Day gift ...  1992  \n",
       "3   Saccharin, an artificial sweetener whose safet...  1985  \n",
       "4   ROCKVILLE, Md. -- Genex Corp. said it eliminat...  1984  \n",
       "..                                                ...   ...  \n",
       "95  Most of the world has grown fatter since the 1...  2013  \n",
       "96  breakerbreakerbreakerbreakerbreakerbreakerbrea...  2017  \n",
       "97  There's another shake-up in the world of fizzy...  2021  \n",
       "98  It's 7 a.m. Sharon Fraser, an Encino financial...  1985  \n",
       "99  TWITTER ADS: Twitter is rolling out a new vide...  2015  \n",
       "\n",
       "[100 rows x 7 columns]"
      ]
     },
     "execution_count": 38,
     "metadata": {},
     "output_type": "execute_result"
    }
   ],
   "source": [
    "# View dataframe\n",
    "df"
   ]
  },
  {
   "cell_type": "code",
   "execution_count": 45,
   "metadata": {},
   "outputs": [
    {
     "data": {
      "text/html": [
       "<div>\n",
       "<style scoped>\n",
       "    .dataframe tbody tr th:only-of-type {\n",
       "        vertical-align: middle;\n",
       "    }\n",
       "\n",
       "    .dataframe tbody tr th {\n",
       "        vertical-align: top;\n",
       "    }\n",
       "\n",
       "    .dataframe thead th {\n",
       "        text-align: right;\n",
       "    }\n",
       "</style>\n",
       "<table border=\"1\" class=\"dataframe\">\n",
       "  <thead>\n",
       "    <tr style=\"text-align: right;\">\n",
       "      <th></th>\n",
       "      <th>GOID</th>\n",
       "      <th>Title</th>\n",
       "      <th>Date</th>\n",
       "      <th>Publisher</th>\n",
       "      <th>PubTitle</th>\n",
       "      <th>Text</th>\n",
       "      <th>Year</th>\n",
       "    </tr>\n",
       "  </thead>\n",
       "  <tbody>\n",
       "    <tr>\n",
       "      <th>31</th>\n",
       "      <td>283160133</td>\n",
       "      <td>Popping pills to ease a splitting headache may...</td>\n",
       "      <td>1991-04-03</td>\n",
       "      <td>Tribune Publishing Company, LLC</td>\n",
       "      <td>Chicago Tribune (pre-1997 Fulltext)</td>\n",
       "      <td>If you're one of the millions of Americans who...</td>\n",
       "      <td>1991</td>\n",
       "    </tr>\n",
       "    <tr>\n",
       "      <th>47</th>\n",
       "      <td>428000906</td>\n",
       "      <td>Court Ruling on Nutrasweet</td>\n",
       "      <td>1991-03-25</td>\n",
       "      <td>New York Times Company</td>\n",
       "      <td>New York Times</td>\n",
       "      <td>None</td>\n",
       "      <td>1991</td>\n",
       "    </tr>\n",
       "    <tr>\n",
       "      <th>55</th>\n",
       "      <td>283159058</td>\n",
       "      <td>Excess of 1 mineral may squeeze out another</td>\n",
       "      <td>1991-12-16</td>\n",
       "      <td>Tribune Publishing Company, LLC</td>\n",
       "      <td>Chicago Tribune (pre-1997 Fulltext)</td>\n",
       "      <td>Q-I heard a discussion by a dietician of the p...</td>\n",
       "      <td>1991</td>\n",
       "    </tr>\n",
       "    <tr>\n",
       "      <th>84</th>\n",
       "      <td>398241871</td>\n",
       "      <td>Health: Label Rules to Foster Healthful Foods</td>\n",
       "      <td>1991-12-26</td>\n",
       "      <td>Dow Jones &amp; Company Inc.</td>\n",
       "      <td>Wall Street Journal</td>\n",
       "      <td>WASHINGTON -- The unprecedented truth-in-label...</td>\n",
       "      <td>1991</td>\n",
       "    </tr>\n",
       "  </tbody>\n",
       "</table>\n",
       "</div>"
      ],
      "text/plain": [
       "         GOID                                              Title        Date  \\\n",
       "31  283160133  Popping pills to ease a splitting headache may...  1991-04-03   \n",
       "47  428000906                         Court Ruling on Nutrasweet  1991-03-25   \n",
       "55  283159058        Excess of 1 mineral may squeeze out another  1991-12-16   \n",
       "84  398241871      Health: Label Rules to Foster Healthful Foods  1991-12-26   \n",
       "\n",
       "                          Publisher                             PubTitle  \\\n",
       "31  Tribune Publishing Company, LLC  Chicago Tribune (pre-1997 Fulltext)   \n",
       "47           New York Times Company                       New York Times   \n",
       "55  Tribune Publishing Company, LLC  Chicago Tribune (pre-1997 Fulltext)   \n",
       "84         Dow Jones & Company Inc.                  Wall Street Journal   \n",
       "\n",
       "                                                 Text  Year  \n",
       "31  If you're one of the millions of Americans who...  1991  \n",
       "47                                               None  1991  \n",
       "55  Q-I heard a discussion by a dietician of the p...  1991  \n",
       "84  WASHINGTON -- The unprecedented truth-in-label...  1991  "
      ]
     },
     "execution_count": 45,
     "metadata": {},
     "output_type": "execute_result"
    }
   ],
   "source": [
    "df[df['Year'] == '1991']"
   ]
  },
  {
   "cell_type": "markdown",
   "metadata": {},
   "source": [
    "## Noise function"
   ]
  },
  {
   "cell_type": "markdown",
   "metadata": {},
   "source": [
    "In order to comply with ProQuest licensing rules, we **cannot** export original/unaltered Full Text values. We have two choices: (1) do our text analysis within the TDM Studio Workbench environment, or (2) create a dataset that only uses partial, derivative, or altered full text data.\n",
    "\n",
    "In this notebook, I used a \"noise\" function that essentially rearranges paragraphs in the `Text` column. This retains our ability to use most text analysis methods, e.g. topic modeling, on a paragraph level, and allows us to comply with PQ licensing limits. You could also explore other noise functions here."
   ]
  },
  {
   "cell_type": "code",
   "execution_count": 43,
   "metadata": {},
   "outputs": [],
   "source": [
    "# Function to shuffle paragraphs\n",
    "def shuffle_paragraphs(text):\n",
    "    # deal with None/empty text values\n",
    "    if text is None:\n",
    "        return None\n",
    "    paragraphs = text.split('\\n\\n')  # Split the text into paragraphs\n",
    "    np.random.shuffle(paragraphs)    # Shuffle the paragraphs\n",
    "    return '\\n\\n'.join(paragraphs)   # Join the paragraphs back into a single text block\n",
    "\n",
    "# Apply the function to the 'Text' column\n",
    "df['Text'] = df['Text'].apply(shuffle_paragraphs)"
   ]
  },
  {
   "cell_type": "code",
   "execution_count": 44,
   "metadata": {},
   "outputs": [
    {
     "data": {
      "text/html": [
       "<div>\n",
       "<style scoped>\n",
       "    .dataframe tbody tr th:only-of-type {\n",
       "        vertical-align: middle;\n",
       "    }\n",
       "\n",
       "    .dataframe tbody tr th {\n",
       "        vertical-align: top;\n",
       "    }\n",
       "\n",
       "    .dataframe thead th {\n",
       "        text-align: right;\n",
       "    }\n",
       "</style>\n",
       "<table border=\"1\" class=\"dataframe\">\n",
       "  <thead>\n",
       "    <tr style=\"text-align: right;\">\n",
       "      <th></th>\n",
       "      <th>GOID</th>\n",
       "      <th>Title</th>\n",
       "      <th>Date</th>\n",
       "      <th>Publisher</th>\n",
       "      <th>PubTitle</th>\n",
       "      <th>Text</th>\n",
       "      <th>Year</th>\n",
       "    </tr>\n",
       "  </thead>\n",
       "  <tbody>\n",
       "    <tr>\n",
       "      <th>47</th>\n",
       "      <td>428000906</td>\n",
       "      <td>Court Ruling on Nutrasweet</td>\n",
       "      <td>1991-03-25</td>\n",
       "      <td>New York Times Company</td>\n",
       "      <td>New York Times</td>\n",
       "      <td>None</td>\n",
       "      <td>1991</td>\n",
       "    </tr>\n",
       "    <tr>\n",
       "      <th>70</th>\n",
       "      <td>417903669</td>\n",
       "      <td>NutraSweet and Pepsi Reach Pact</td>\n",
       "      <td>1992-04-22</td>\n",
       "      <td>Tribune Publishing Company, LLC</td>\n",
       "      <td>Chicago Tribune</td>\n",
       "      <td>None</td>\n",
       "      <td>1992</td>\n",
       "    </tr>\n",
       "  </tbody>\n",
       "</table>\n",
       "</div>"
      ],
      "text/plain": [
       "         GOID                            Title        Date  \\\n",
       "47  428000906       Court Ruling on Nutrasweet  1991-03-25   \n",
       "70  417903669  NutraSweet and Pepsi Reach Pact  1992-04-22   \n",
       "\n",
       "                          Publisher         PubTitle  Text  Year  \n",
       "47           New York Times Company   New York Times  None  1991  \n",
       "70  Tribune Publishing Company, LLC  Chicago Tribune  None  1992  "
      ]
     },
     "execution_count": 44,
     "metadata": {},
     "output_type": "execute_result"
    }
   ],
   "source": [
    "df[df['Text'].isnull()]"
   ]
  },
  {
   "cell_type": "markdown",
   "metadata": {},
   "source": [
    "## Save Dataframe as CSV\n",
    "\n",
    "Make sure to change the `output_file` variable (defined at the top of script) to desired output file name before running this cell."
   ]
  },
  {
   "cell_type": "code",
   "execution_count": 15,
   "metadata": {},
   "outputs": [],
   "source": [
    "# Save output to file\n",
    "df.to_csv(output_file)"
   ]
  },
  {
   "cell_type": "code",
   "execution_count": 50,
   "metadata": {},
   "outputs": [
    {
     "name": "stdout",
     "output_type": "stream",
     "text": [
      "/home/ec2-user/SageMaker/Getting Started/2022.05.25/ProQuest TDM Studio Samples\r\n"
     ]
    }
   ],
   "source": [
    "!pwd"
   ]
  },
  {
   "cell_type": "markdown",
   "metadata": {},
   "source": [
    "## Export from Workbench environment\n",
    "\n",
    "To export from Workbench (with limit of about 30MB/week), use shell commands to copy the dataset export from the steps above into the \"drop folder\" location. This triggers a hook/script on PQ's side that will email you the file directly.\n",
    "\n",
    "Note you may have to do some investigating to set the exact dataset file path."
   ]
  },
  {
   "cell_type": "code",
   "execution_count": null,
   "metadata": {},
   "outputs": [],
   "source": [
    "# replace with the dataset name you set above (or any other file you wish to export\n",
    "# from the workbench environment)\n",
    "data_to_export = 'test_python_output.csv'"
   ]
  },
  {
   "cell_type": "markdown",
   "metadata": {},
   "source": [
    "Now run the shell script (with ! prefix) to move to a specific export folder. If you run into issues, it's likely a problem with the filepath above -- make sure your dataset is in the same folder as the Notebook you're running."
   ]
  },
  {
   "cell_type": "code",
   "execution_count": null,
   "metadata": {},
   "outputs": [
    {
     "name": "stdout",
     "output_type": "stream",
     "text": [
      "upload: ./2024-02-23-nyc-2k-no-full.csv to s3://pq-tdm-studio-results/tdm-ale-data/a1014/results/2024-02-23-nyc-2k-no-full.csv\n"
     ]
    }
   ],
   "source": [
    "!aws s3 cp $data_to_export s3://pq-tdm-studio-results/tdm-ale-data/a1014/results/"
   ]
  },
  {
   "cell_type": "code",
   "execution_count": null,
   "metadata": {},
   "outputs": [],
   "source": [
    "Note you can replace the filepath above"
   ]
  }
 ],
 "metadata": {
  "kernelspec": {
   "display_name": "sample-2022.05.25",
   "language": "python",
   "name": "sample-2022.05.25"
  },
  "language_info": {
   "codemirror_mode": {
    "name": "ipython",
    "version": 3
   },
   "file_extension": ".py",
   "mimetype": "text/x-python",
   "name": "python",
   "nbconvert_exporter": "python",
   "pygments_lexer": "ipython3",
   "version": "3.9.10"
  }
 },
 "nbformat": 4,
 "nbformat_minor": 4
}
